{
 "cells": [
  {
   "cell_type": "code",
   "execution_count": 1,
   "metadata": {},
   "outputs": [
    {
     "name": "stdout",
     "output_type": "stream",
     "text": [
      "Created JSON for sheet: Income_Statement_Y\n",
      "Created JSON for sheet: Balance_Sheet_Y\n",
      "Created JSON for sheet: Ratios_Y\n",
      "Created JSON for sheet: Income_Statement_Q\n",
      "Created JSON for sheet: Balance_Sheet_Q\n",
      "Created JSON for sheet: Ratios_Q\n"
     ]
    }
   ],
   "source": [
    "import pandas as pd\n",
    "import os\n",
    "\n",
    "# Define the path to your Excel file and the output directory\n",
    "excel_file_path = r\"C:\\Users\\m-508\\OneDrive\\Desktop\\Finance_Website\\Data\\Final_Database.xlsx\"\n",
    "output_directory = r\"C:\\Users\\m-508\\OneDrive\\Desktop\\Finance_Website\"\n",
    "\n",
    "# Load the Excel file\n",
    "xlsx = pd.ExcelFile(excel_file_path)\n",
    "\n",
    "# Loop through the first six sheets in the Excel file\n",
    "for sheet_name in xlsx.sheet_names[:6]:  # Adjust the loop to only iterate over the first six sheets\n",
    "    # Read each sheet into a pandas DataFrame\n",
    "    df = pd.read_excel(xlsx, sheet_name)\n",
    "\n",
    "    # Drop the fourth column from the DataFrame\n",
    "    # Assuming the fourth column's index is 3 (since indexing starts at 0)\n",
    "    df.drop(df.columns[3], axis=1, inplace=True)\n",
    "\n",
    "    # Convert the DataFrame to JSON\n",
    "    json_str = df.to_json(orient='records', force_ascii=False)\n",
    "    \n",
    "    # Define the output file name based on the sheet name\n",
    "    json_file_path = os.path.join(output_directory, f\"{sheet_name}.json\")\n",
    "    \n",
    "    # Write the JSON to a file\n",
    "    with open(json_file_path, 'w', encoding='utf-8') as json_file:\n",
    "        json_file.write(json_str)\n",
    "    \n",
    "    print(f\"Created JSON for sheet: {sheet_name}\")\n"
   ]
  },
  {
   "cell_type": "code",
   "execution_count": 1,
   "metadata": {},
   "outputs": [
    {
     "name": "stdout",
     "output_type": "stream",
     "text": [
      "The Excel files have been created successfully.\n"
     ]
    }
   ],
   "source": [
    "import pandas as pd\n",
    "import os\n",
    "\n",
    "# Function to process each sheet and create separate sheets for each item\n",
    "def process_sheet(df, writer, start_col, end_col):\n",
    "    # Convert all column names to strings\n",
    "    df.columns = df.columns.astype(str)\n",
    "\n",
    "    # Unique identifiers for each set of data, based on the 'Sheet_Name' column\n",
    "    unique_names = df['Sheet_Name'].unique()\n",
    "    for name in unique_names:\n",
    "        # Filter the DataFrame for the current set of data\n",
    "        item_df = df[df['Sheet_Name'] == name]\n",
    "        # Selecting 'Bank' column and the data columns from start_col to end_col\n",
    "        item_df = item_df.iloc[:, [0] + list(range(start_col-1, end_col))]\n",
    "        # Drop columns that are completely empty or unnamed\n",
    "        item_df = item_df.dropna(how='all', axis=1).rename(columns=lambda x: x if not 'Unnamed' in str(x) else '').filter(regex='^(?!$).*$')\n",
    "        # Write to a separate sheet in the Excel file\n",
    "        item_df.to_excel(writer, sheet_name=name, index=False)\n",
    "\n",
    "# Function to read the Excel file and call process_sheet for each relevant sheet\n",
    "def process_sheets(excel_file_path, sheet_names, suffix, end_col):\n",
    "    with pd.ExcelWriter(f\"{os.path.dirname(excel_file_path)}/{suffix}_Data_GPT.xlsx\", engine='openpyxl') as writer:\n",
    "        for sheet in sheet_names:\n",
    "            df = pd.read_excel(excel_file_path, sheet_name=sheet)\n",
    "            process_sheet(df, writer, 6, end_col)\n",
    "\n",
    "# Path to the original Excel file\n",
    "excel_file_path = \"C:/Users/m-508/OneDrive/Desktop/Finance_Website/Data/Final_Database.xlsx\"\n",
    "\n",
    "# Column index where the data ends; update these as new data is added\n",
    "# Column 19 for yearly (2022), Column 59 for quarterly (Q3_2023)\n",
    "END_COL_YEARLY = 20\n",
    "END_COL_QUARTERLY = 60\n",
    "\n",
    "# Process and save yearly data\n",
    "yearly_sheets = ['Income_Statement_Y', 'Balance_Sheet_Y', 'Ratios_Y']\n",
    "process_sheets(excel_file_path, yearly_sheets, 'Yearly', END_COL_YEARLY)\n",
    "\n",
    "# Process and save quarterly data\n",
    "quarterly_sheets = ['Income_Statement_Q', 'Balance_Sheet_Q', 'Ratios_Q']\n",
    "process_sheets(excel_file_path, quarterly_sheets, 'Quarterly', END_COL_QUARTERLY)\n",
    "\n",
    "print(\"The Excel files have been created successfully.\")\n"
   ]
  },
  {
   "cell_type": "code",
   "execution_count": 4,
   "metadata": {},
   "outputs": [
    {
     "name": "stdout",
     "output_type": "stream",
     "text": [
      "Probability that the next ball is red: 0.4950412444444444\n"
     ]
    }
   ],
   "source": [
    "import random\n",
    "\n",
    "def simulate_red_ball_probability(trials):\n",
    "    red_ball_success = 0\n",
    "\n",
    "    for _ in range(trials):\n",
    "        n = random.randint(0, 100)  # Number of red balls initially\n",
    "        if n > 1:  # There must be more than one red ball initially to draw a second red ball\n",
    "            n -= 1  # Remove one red ball\n",
    "            if random.randint(0, 98) < n:  # Pick another ball and check if it's red\n",
    "                red_ball_success += 1\n",
    "\n",
    "    return red_ball_success / trials\n",
    "\n",
    "# Number of trials\n",
    "trials = 90_000_000\n",
    "\n",
    "# Estimate the probability\n",
    "probability = simulate_red_ball_probability(trials)\n",
    "print(f\"Probability that the next ball is red: {probability}\")\n"
   ]
  }
 ],
 "metadata": {
  "kernelspec": {
   "display_name": "Python 3",
   "language": "python",
   "name": "python3"
  },
  "language_info": {
   "codemirror_mode": {
    "name": "ipython",
    "version": 3
   },
   "file_extension": ".py",
   "mimetype": "text/x-python",
   "name": "python",
   "nbconvert_exporter": "python",
   "pygments_lexer": "ipython3",
   "version": "3.11.7"
  }
 },
 "nbformat": 4,
 "nbformat_minor": 2
}
